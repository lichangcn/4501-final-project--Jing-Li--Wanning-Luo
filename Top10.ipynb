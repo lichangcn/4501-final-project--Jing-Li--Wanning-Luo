{
 "cells": [
  {
   "cell_type": "code",
   "execution_count": 1,
   "metadata": {},
   "outputs": [
    {
     "name": "stderr",
     "output_type": "stream",
     "text": [
      "C:\\Users\\lijing\\Anaconda3\\lib\\site-packages\\IPython\\core\\interactiveshell.py:3049: DtypeWarning: Columns (20,31,32) have mixed types.Specify dtype option on import or set low_memory=False.\n",
      "  interactivity=interactivity, compiler=compiler, result=result)\n"
     ]
    }
   ],
   "source": [
    "import pandas as pd\n",
    "data=pd.read_csv(\"311_Service_Requests_2020.csv\")"
   ]
  },
  {
   "cell_type": "code",
   "execution_count": 2,
   "metadata": {},
   "outputs": [],
   "source": [
    "data_10019=data[data[\"Incident Zip\"]==10019.0]"
   ]
  },
  {
   "cell_type": "code",
   "execution_count": 3,
   "metadata": {},
   "outputs": [
    {
     "data": {
      "text/plain": [
       "Complaint Type\n",
       "Noise - Street/Sidewalk                1299\n",
       "Noise - Residential                    1144\n",
       "Homeless Person Assistance             1116\n",
       "Noise                                  1066\n",
       "Illegal Parking                         998\n",
       "HEAT/HOT WATER                          866\n",
       "Noise - Commercial                      811\n",
       "Non-Emergency Police Matter             776\n",
       "Homeless Street Condition               658\n",
       "NonCompliance with Phased Reopening     620\n",
       "Name: Unique Key, dtype: int64"
      ]
     },
     "execution_count": 3,
     "metadata": {},
     "output_type": "execute_result"
    }
   ],
   "source": [
    "top10=data_10019.groupby(data[\"Complaint Type\"]).count().sort_values(by=[\"Unique Key\"],ascending=False)[:10][\"Unique Key\"]\n",
    "top10"
   ]
  }
 ],
 "metadata": {
  "kernelspec": {
   "display_name": "Python 3",
   "language": "python",
   "name": "python3"
  },
  "language_info": {
   "codemirror_mode": {
    "name": "ipython",
    "version": 3
   },
   "file_extension": ".py",
   "mimetype": "text/x-python",
   "name": "python",
   "nbconvert_exporter": "python",
   "pygments_lexer": "ipython3",
   "version": "3.7.3"
  }
 },
 "nbformat": 4,
 "nbformat_minor": 5
}
